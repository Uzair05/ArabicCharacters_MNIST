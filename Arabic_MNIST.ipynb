{
 "cells": [
  {
   "cell_type": "markdown",
   "metadata": {},
   "source": [
    "# Arabc Characters MNIST \n",
    "A [Kaggle Project](https://www.kaggle.com/mloey1/ahcd1) provided by [Benha University](http://bu.edu.eg/staff/mloey)\n",
    "\n",
    "Project By: [Uzair](https://github.com/Uzair05)"
   ]
  },
  {
   "cell_type": "markdown",
   "metadata": {},
   "source": [
    "## Using CSV Datasets"
   ]
  },
  {
   "cell_type": "markdown",
   "metadata": {},
   "source": [
    "### Download and move data"
   ]
  },
  {
   "cell_type": "code",
   "execution_count": null,
   "metadata": {},
   "outputs": [],
   "source": [
    "#!pip install --upgrade kaggle\n",
    "!kaggle datasets download -d mloey1/ahcd1"
   ]
  },
  {
   "cell_type": "code",
   "execution_count": null,
   "metadata": {},
   "outputs": [],
   "source": [
    "import os \n",
    "import zipfile\n",
    "\n",
    "try:\n",
    "    os.mkdir(\"./data/\")\n",
    "except Exception as err:\n",
    "    print(f\"Error in creating data/:\\t{err}\")\n",
    "\n",
    "\n",
    "localzip = \"./ahcd1.zip\"\n",
    "zip_ref = zipfile.ZipFile(localzip, 'r')\n",
    "try:\n",
    "    zip_ref.extractall('data/')\n",
    "except Exception as err:\n",
    "    print(f\"Erorr in zip extraction:\\t{err}\")\n",
    "finally:\n",
    "    zip_ref.close()"
   ]
  },
  {
   "cell_type": "markdown",
   "metadata": {},
   "source": [
    "### Handle Data\n",
    "Create test, train and validation data"
   ]
  },
  {
   "cell_type": "code",
   "execution_count": 1,
   "metadata": {},
   "outputs": [],
   "source": [
    "import numpy as np\n",
    "import pandas as pd\n",
    "import matplotlib.pyplot as plt\n",
    "import tensorflow as tf\n",
    "#import random as rand"
   ]
  },
  {
   "cell_type": "code",
   "execution_count": 30,
   "metadata": {},
   "outputs": [],
   "source": [
    "data = pd.read_csv(\"./data/csvTrainImages 13440x1024.csv\")\n",
    "label = pd.read_csv(\"./data/csvTrainLabel 13440x1.csv\")\n",
    "\n",
    "test_data = pd.read_csv('./data/csvTestImages 3360x1024.csv')\n",
    "test_label = pd.read_csv('./data/csvTestLabel 3360x1.csv')"
   ]
  },
  {
   "cell_type": "code",
   "execution_count": 31,
   "metadata": {},
   "outputs": [],
   "source": [
    "x_train = data.to_numpy()\n",
    "x_shape, _ = x_train.shape\n",
    "x_train = x_train.reshape(x_shape, 32, 32)\n",
    "y_train = label.to_numpy()\n",
    "y_shape, _ = y_train.shape\n",
    "y_train = y_train.reshape(y_shape,)\n",
    "\n",
    "\n",
    "x_test = test_data.to_numpy()\n",
    "x_test_shape, _ = x_test.shape\n",
    "x_test = x_test.reshape(x_test_shape, 32, 32)\n",
    "y_test = test_label.to_numpy()\n",
    "y_test_shape = y_test.shape\n",
    "y_test = y_test.reshape(y_test_shape,)"
   ]
  },
  {
   "cell_type": "code",
   "execution_count": 32,
   "metadata": {},
   "outputs": [],
   "source": [
    "for i in range(x_shape):\n",
    "    x_train[i,:,:] = np.rot90(x_train[i,:,:], axes=(1,0))\n",
    "for i in range(x_test_shape):\n",
    "    x_test[i,:,:] = np.rot90(x_test[i,:,:], axes=(1,0))\n",
    "\n",
    "\n",
    "x_train = x_train.reshape(x_shape, 32, 32, 1)\n",
    "x_test = x_test.reshape(x_test_shape, 32, 32, 1)\n",
    "x_train = x_train/255.0\n",
    "x_test = x_test/255.0"
   ]
  },
  {
   "cell_type": "code",
   "execution_count": 33,
   "metadata": {},
   "outputs": [],
   "source": [
    "y_train = y_train - 1\n",
    "y_test = y_test - 1"
   ]
  },
  {
   "cell_type": "code",
   "execution_count": 34,
   "metadata": {},
   "outputs": [
    {
     "data": {
      "text/plain": [
       "<matplotlib.image.AxesImage at 0x24f96c5e760>"
      ]
     },
     "execution_count": 34,
     "metadata": {},
     "output_type": "execute_result"
    },
    {
     "data": {
      "image/png": "[encoded data removed]",
      "text/plain": [
       "<Figure size 432x288 with 1 Axes>"
      ]
     },
     "metadata": {
      "needs_background": "light"
     },
     "output_type": "display_data"
    }
   ],
   "source": [
    "plt.imshow(x_train[6,:,:])"
   ]
  },
  {
   "cell_type": "markdown",
   "metadata": {},
   "source": [
    "### Create Model"
   ]
  },
  {
   "cell_type": "code",
   "execution_count": 35,
   "metadata": {},
   "outputs": [],
   "source": [
    "class myCallback(tf.keras.callbacks.Callback):\n",
    "      def on_epoch_end(self, epoch, logs={}):\n",
    "        accuracy = 0.7 # Percentage Accuracy.\n",
    "        if(logs.get('accuracy') != None) and (logs.get('accuracy') >= accuracy): # Experiment with changing this value\n",
    "          print(f\"\\nReached {accuracy*100}% accuracy so cancelling training!\")\n",
    "          self.model.stop_training = True\n",
    "\n",
    "callbacks = myCallback()"
   ]
  },
  {
   "cell_type": "code",
   "execution_count": 36,
   "metadata": {},
   "outputs": [
    {
     "name": "stdout",
     "output_type": "stream",
     "text": [
      "Model: \"sequential_1\"\n",
      "_________________________________________________________________\n",
      "Layer (type)                 Output Shape              Param #   \n",
      "=================================================================\n",
      "conv2d_3 (Conv2D)            (None, 32, 32, 12)        120       \n",
      "_________________________________________________________________\n",
      "conv2d_4 (Conv2D)            (None, 30, 30, 12)        1308      \n",
      "_________________________________________________________________\n",
      "conv2d_5 (Conv2D)            (None, 28, 28, 12)        1308      \n",
      "_________________________________________________________________\n",
      "flatten_1 (Flatten)          (None, 9408)              0         \n",
      "_________________________________________________________________\n",
      "dense_3 (Dense)              (None, 64)                602176    \n",
      "_________________________________________________________________\n",
      "dropout_2 (Dropout)          (None, 64)                0         \n",
      "_________________________________________________________________\n",
      "dense_4 (Dense)              (None, 64)                4160      \n",
      "_________________________________________________________________\n",
      "dropout_3 (Dropout)          (None, 64)                0         \n",
      "_________________________________________________________________\n",
      "dense_5 (Dense)              (None, 28)                1820      \n",
      "=================================================================\n",
      "Total params: 610,892\n",
      "Trainable params: 610,892\n",
      "Non-trainable params: 0\n",
      "_________________________________________________________________\n"
     ]
    }
   ],
   "source": [
    "model = tf.keras.models.Sequential([\n",
    "    tf.keras.layers.Conv2D(12, (3,3), activation=tf.nn.relu, padding='same', input_shape=(32,32, 1)),\n",
    "    tf.keras.layers.Conv2D(12, (3,3), activation=tf.nn.leaky_relu),\n",
    "    tf.keras.layers.Conv2D(12, (3,3), activation=tf.nn.relu),\n",
    "    tf.keras.layers.Flatten(), \n",
    "    tf.keras.layers.Dense(64, activation=tf.nn.relu),\n",
    "    tf.keras.layers.Dropout(0.3),\n",
    "    tf.keras.layers.Dense(64, activation=tf.nn.relu),\n",
    "    tf.keras.layers.Dropout(0.3),\n",
    "    tf.keras.layers.Dense(28, activation=tf.nn.softmax)\n",
    "])\n",
    "model.compile(optimizer='adam', loss='sparse_categorical_crossentropy', metrics=['accuracy'])\n",
    "model.summary()"
   ]
  },
  {
   "cell_type": "markdown",
   "metadata": {},
   "source": [
    "### Train Model"
   ]
  },
  {
   "cell_type": "code",
   "execution_count": 9,
   "metadata": {},
   "outputs": [
    {
     "name": "stdout",
     "output_type": "stream",
     "text": [
      "Epoch 1/15\n",
      "105/105 [==============================] - 6s 48ms/step - loss: 3.1841 - accuracy: 0.0804\n",
      "Epoch 2/15\n",
      "105/105 [==============================] - 5s 47ms/step - loss: 2.7327 - accuracy: 0.1718\n",
      "Epoch 3/15\n",
      "105/105 [==============================] - 6s 58ms/step - loss: 2.3272 - accuracy: 0.2742\n",
      "Epoch 4/15\n",
      "105/105 [==============================] - 5s 47ms/step - loss: 1.9998 - accuracy: 0.3465\n",
      "Epoch 5/15\n",
      "105/105 [==============================] - 5s 47ms/step - loss: 1.7466 - accuracy: 0.4189\n",
      "Epoch 6/15\n",
      "105/105 [==============================] - 5s 51ms/step - loss: 1.5780 - accuracy: 0.4665\n",
      "Epoch 7/15\n",
      "105/105 [==============================] - 5s 47ms/step - loss: 1.3808 - accuracy: 0.5344\n",
      "Epoch 8/15\n",
      "105/105 [==============================] - 5s 51ms/step - loss: 1.2850 - accuracy: 0.5549\n",
      "Epoch 9/15\n",
      "105/105 [==============================] - 6s 55ms/step - loss: 1.1384 - accuracy: 0.6133\n",
      "Epoch 10/15\n",
      "105/105 [==============================] - 5s 45ms/step - loss: 1.0744 - accuracy: 0.6204\n",
      "Epoch 11/15\n",
      "105/105 [==============================] - 5s 46ms/step - loss: 1.0317 - accuracy: 0.6445\n",
      "Epoch 12/15\n",
      "105/105 [==============================] - 5s 47ms/step - loss: 0.9496 - accuracy: 0.6687\n",
      "Epoch 13/15\n",
      "105/105 [==============================] - 5s 51ms/step - loss: 0.9057 - accuracy: 0.6782\n",
      "Epoch 14/15\n",
      "105/105 [==============================] - 5s 50ms/step - loss: 0.8411 - accuracy: 0.7014\n",
      "\n",
      "Reached 70.0% accuracy so cancelling training!\n"
     ]
    }
   ],
   "source": [
    "history = model.fit(\n",
    "    x_train, \n",
    "    y_train, \n",
    "    epochs=15, \n",
    "    verbose=1, \n",
    "    callbacks=[callbacks],\n",
    ")"
   ]
  },
  {
   "cell_type": "markdown",
   "metadata": {},
   "source": [
    "### Evaluate Model"
   ]
  },
  {
   "cell_type": "code",
   "execution_count": 27,
   "metadata": {},
   "outputs": [
    {
     "data": {
      "image/png": "[encoded data removed]",
      "text/plain": [
       "<Figure size 432x288 with 1 Axes>"
      ]
     },
     "metadata": {
      "needs_background": "light"
     },
     "output_type": "display_data"
    },
    {
     "data": {
      "text/plain": [
       "<Figure size 432x288 with 0 Axes>"
      ]
     },
     "metadata": {},
     "output_type": "display_data"
    }
   ],
   "source": [
    "loss, accuracy = history.history['loss'], history.history['accuracy']\n",
    "plt.plot(range(14), accuracy, 'r', label='training accuracy')\n",
    "plt.title('Training and validation accuracy')\n",
    "plt.ylabel('Loss')\n",
    "plt.xlabel('Epoch')\n",
    "plt.legend(loc=0)\n",
    "plt.figure()\n",
    "plt.show()"
   ]
  },
  {
   "cell_type": "code",
   "execution_count": null,
   "metadata": {},
   "outputs": [],
   "source": [
    "model.evaluate(\n",
    "    \n",
    ")"
   ]
  },
  {
   "cell_type": "markdown",
   "metadata": {},
   "source": [
    "### Save Model"
   ]
  },
  {
   "cell_type": "code",
   "execution_count": 28,
   "metadata": {},
   "outputs": [],
   "source": [
    "tf.keras.models.save_model(model, filepath=\"./my_model/OwnCNN_70p.h5\", overwrite=True)"
   ]
  },
  {
   "cell_type": "markdown",
   "metadata": {},
   "source": [
    "## Using Images Datasets"
   ]
  },
  {
   "cell_type": "markdown",
   "metadata": {},
   "source": [
    "### Handle Data"
   ]
  },
  {
   "cell_type": "markdown",
   "metadata": {},
   "source": [
    "#### Bash Command - Linux"
   ]
  },
  {
   "cell_type": "markdown",
   "metadata": {},
   "source": [
    "\n",
    "* bash script to sort labelled images into directories.  \n",
    "    * Use directories in imageneration"
   ]
  },
  {
   "cell_type": "markdown",
   "metadata": {},
   "source": [
    "#### Python Command - Windows"
   ]
  },
  {
   "cell_type": "markdown",
   "metadata": {},
   "source": [
    "### CNN Transfer Learning\n"
   ]
  }
 ],
 "metadata": {
  "interpreter": {
   "hash": "85c613298e2573a698747096a05ed0fa75bd0f57ffe828e7c5873ae05c08a3c6"
  },
  "kernelspec": {
   "display_name": "Python 3.9.7 64-bit",
   "language": "python",
   "name": "python3"
  },
  "language_info": {
   "codemirror_mode": {
    "name": "ipython",
    "version": 3
   },
   "file_extension": ".py",
   "mimetype": "text/x-python",
   "name": "python",
   "nbconvert_exporter": "python",
   "pygments_lexer": "ipython3",
   "version": "3.9.7"
  },
  "orig_nbformat": 4
 },
 "nbformat": 4,
 "nbformat_minor": 2
}
