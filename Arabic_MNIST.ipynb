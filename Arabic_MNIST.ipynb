{
 "cells": [
  {
   "cell_type": "markdown",
   "metadata": {},
   "source": [
    "# Arabc Characters MNIST \n",
    "A [Kaggle Project](https://www.kaggle.com/mloey1/ahcd1) provided by [Benha University](http://bu.edu.eg/staff/mloey)\n",
    "\n",
    "Project By: [Uzair](https://github.com/Uzair05)"
   ]
  },
  {
   "cell_type": "markdown",
   "metadata": {},
   "source": [
    "## Using CSV Datasets"
   ]
  },
  {
   "cell_type": "markdown",
   "metadata": {},
   "source": [
    "### Download and move data"
   ]
  },
  {
   "cell_type": "code",
   "execution_count": 1,
   "metadata": {},
   "outputs": [
    {
     "name": "stdout",
     "output_type": "stream",
     "text": [
      "ahcd1.zip: Skipping, found more recently modified local copy (use --force to force download)\r\n"
     ]
    }
   ],
   "source": [
    "#!pip install --upgrade kaggle\n",
    "!kaggle datasets download -d mloey1/ahcd1"
   ]
  },
  {
   "cell_type": "code",
   "execution_count": 3,
   "metadata": {},
   "outputs": [],
   "source": [
    "import os \n",
    "import zipfile\n",
    "\n",
    "try:\n",
    "    os.mkdir(\"./data/\")\n",
    "except Exception as err:\n",
    "    print(f\"Error in creating data/:\\t{err}\")\n",
    "\n",
    "\n",
    "localzip = \"./ahcd1.zip\"\n",
    "zip_ref = zipfile.ZipFile(localzip, 'r')\n",
    "try:\n",
    "    zip_ref.extractall('data/')\n",
    "except Exception as err:\n",
    "    print(f\"Erorr in zip extraction:\\t{err}\")\n",
    "finally:\n",
    "    zip_ref.close()"
   ]
  },
  {
   "cell_type": "markdown",
   "metadata": {},
   "source": [
    "### Handle Data\n",
    "Create test, train and validation data"
   ]
  },
  {
   "cell_type": "code",
   "execution_count": 4,
   "metadata": {},
   "outputs": [],
   "source": [
    "import numpy as np\n",
    "import pandas as pd\n",
    "import matplotlib.pyplot as plt\n",
    "import tensorflow as tf\n",
    "#import random as rand"
   ]
  },
  {
   "cell_type": "code",
   "execution_count": 5,
   "metadata": {},
   "outputs": [],
   "source": [
    "data = pd.read_csv(\"./data/csvTrainImages 13440x1024.csv\")\n",
    "label = pd.read_csv(\"./data/csvTrainLabel 13440x1.csv\")\n",
    "\n",
    "test_data = pd.read_csv('./data/csvTestImages 3360x1024.csv')\n",
    "test_label = pd.read_csv('./data/csvTestLabel 3360x1.csv')"
   ]
  },
  {
   "cell_type": "code",
   "execution_count": 6,
   "metadata": {},
   "outputs": [],
   "source": [
    "x_train = data.to_numpy()\n",
    "x_shape, _ = x_train.shape\n",
    "x_train = x_train.reshape(x_shape, 32, 32)\n",
    "y_train = label.to_numpy()\n",
    "y_shape, _ = y_train.shape\n",
    "y_train = y_train.reshape(y_shape,)\n",
    "\n",
    "\n",
    "x_test = test_data.to_numpy()\n",
    "x_test_shape, _ = x_test.shape\n",
    "x_test = x_test.reshape(x_test_shape, 32, 32)\n",
    "y_test = test_label.to_numpy()\n",
    "y_test_shape = y_test.shape\n",
    "y_test = y_test.reshape(y_test_shape,)"
   ]
  },
  {
   "cell_type": "code",
   "execution_count": 7,
   "metadata": {},
   "outputs": [],
   "source": [
    "for i in range(x_shape):\n",
    "    x_train[i,:,:] = np.rot90(x_train[i,:,:], axes=(1,0))\n",
    "for i in range(x_test_shape):\n",
    "    x_test[i,:,:] = np.rot90(x_test[i,:,:], axes=(1,0))\n",
    "\n",
    "\n",
    "x_train = x_train.reshape(x_shape, 32, 32, 1)\n",
    "x_test = x_test.reshape(x_test_shape, 32, 32, 1)\n",
    "x_train = x_train/255.0\n",
    "x_test = x_test/255.0"
   ]
  },
  {
   "cell_type": "code",
   "execution_count": 8,
   "metadata": {},
   "outputs": [],
   "source": [
    "y_train = y_train - 1\n",
    "y_test = y_test - 1"
   ]
  },
  {
   "cell_type": "code",
   "execution_count": 9,
   "metadata": {},
   "outputs": [
    {
     "data": {
      "text/plain": [
       "<matplotlib.image.AxesImage at 0x1479971c34c0>"
      ]
     },
     "execution_count": 9,
     "metadata": {},
     "output_type": "execute_result"
    },
    {
     "data": {
      "image/png": "[encoded data removed]",
      "text/plain": [
       "<Figure size 432x288 with 1 Axes>"
      ]
     },
     "metadata": {
      "needs_background": "light"
     },
     "output_type": "display_data"
    }
   ],
   "source": [
    "plt.imshow(x_train[6,:,:])"
   ]
  },
  {
   "cell_type": "markdown",
   "metadata": {},
   "source": [
    "### Create Model"
   ]
  },
  {
   "cell_type": "code",
   "execution_count": 22,
   "metadata": {},
   "outputs": [],
   "source": [
    "class myCallback(tf.keras.callbacks.Callback):\n",
    "      def on_epoch_end(self, epoch, logs={}):\n",
    "        accuracy = 0.95 # Percentage Accuracy.\n",
    "        if(logs.get('accuracy') != None) and (logs.get('accuracy') >= accuracy): # Experiment with changing this value\n",
    "          print(f\"\\nReached {accuracy*100}% accuracy so cancelling training!\")\n",
    "          self.model.stop_training = True\n",
    "\n",
    "callbacks = myCallback()"
   ]
  },
  {
   "cell_type": "code",
   "execution_count": 23,
   "metadata": {},
   "outputs": [
    {
     "name": "stdout",
     "output_type": "stream",
     "text": [
      "Model: \"sequential_2\"\n",
      "_________________________________________________________________\n",
      " Layer (type)                Output Shape              Param #   \n",
      "=================================================================\n",
      " conv2d_6 (Conv2D)           (None, 32, 32, 12)        120       \n",
      "                                                                 \n",
      " conv2d_7 (Conv2D)           (None, 30, 30, 32)        3488      \n",
      "                                                                 \n",
      " conv2d_8 (Conv2D)           (None, 28, 28, 64)        18496     \n",
      "                                                                 \n",
      " flatten_2 (Flatten)         (None, 50176)             0         \n",
      "                                                                 \n",
      " dense_6 (Dense)             (None, 64)                3211328   \n",
      "                                                                 \n",
      " dropout_4 (Dropout)         (None, 64)                0         \n",
      "                                                                 \n",
      " dense_7 (Dense)             (None, 64)                4160      \n",
      "                                                                 \n",
      " dropout_5 (Dropout)         (None, 64)                0         \n",
      "                                                                 \n",
      " dense_8 (Dense)             (None, 28)                1820      \n",
      "                                                                 \n",
      "=================================================================\n",
      "Total params: 3,239,412\n",
      "Trainable params: 3,239,412\n",
      "Non-trainable params: 0\n",
      "_________________________________________________________________\n"
     ]
    }
   ],
   "source": [
    "model = tf.keras.models.Sequential([\n",
    "    tf.keras.layers.Conv2D(12, (3,3), activation=tf.nn.relu, padding='same', input_shape=(32,32, 1)),\n",
    "    tf.keras.layers.Conv2D(32, (3,3), activation=tf.nn.leaky_relu),\n",
    "    tf.keras.layers.Conv2D(64, (3,3), activation=tf.nn.relu),\n",
    "    tf.keras.layers.Flatten(), \n",
    "    tf.keras.layers.Dense(64, activation=tf.nn.relu),\n",
    "    tf.keras.layers.Dropout(0.3),\n",
    "    tf.keras.layers.Dense(64, activation=tf.nn.relu),\n",
    "    tf.keras.layers.Dropout(0.3),\n",
    "    tf.keras.layers.Dense(28, activation=tf.nn.softmax)\n",
    "])\n",
    "model.compile(optimizer='adam', loss='sparse_categorical_crossentropy', metrics=['accuracy'])\n",
    "model.summary()"
   ]
  },
  {
   "cell_type": "markdown",
   "metadata": {},
   "source": [
    "### Train Model"
   ]
  },
  {
   "cell_type": "code",
   "execution_count": 24,
   "metadata": {},
   "outputs": [
    {
     "name": "stdout",
     "output_type": "stream",
     "text": [
      "Epoch 1/15\n",
      "420/420 [==============================] - 32s 75ms/step - loss: 2.3418 - accuracy: 0.2780\n",
      "Epoch 2/15\n",
      "420/420 [==============================] - 32s 77ms/step - loss: 1.3429 - accuracy: 0.5352\n",
      "Epoch 3/15\n",
      "420/420 [==============================] - 32s 75ms/step - loss: 0.9397 - accuracy: 0.6705\n",
      "Epoch 4/15\n",
      "420/420 [==============================] - 32s 75ms/step - loss: 0.7373 - accuracy: 0.7434\n",
      "Epoch 5/15\n",
      "420/420 [==============================] - 32s 75ms/step - loss: 0.5993 - accuracy: 0.7902\n",
      "Epoch 6/15\n",
      "420/420 [==============================] - 32s 75ms/step - loss: 0.5108 - accuracy: 0.8272\n",
      "Epoch 7/15\n",
      "420/420 [==============================] - 32s 75ms/step - loss: 0.4366 - accuracy: 0.8463\n",
      "Epoch 8/15\n",
      "420/420 [==============================] - 32s 76ms/step - loss: 0.3882 - accuracy: 0.8719\n",
      "Epoch 9/15\n",
      "420/420 [==============================] - 32s 75ms/step - loss: 0.3469 - accuracy: 0.8769\n",
      "Epoch 10/15\n",
      "420/420 [==============================] - 32s 76ms/step - loss: 0.3080 - accuracy: 0.8946\n",
      "Epoch 11/15\n",
      "420/420 [==============================] - 32s 76ms/step - loss: 0.2872 - accuracy: 0.9011\n",
      "Epoch 12/15\n",
      "420/420 [==============================] - 32s 75ms/step - loss: 0.2655 - accuracy: 0.9098\n",
      "Epoch 13/15\n",
      "420/420 [==============================] - 32s 75ms/step - loss: 0.2460 - accuracy: 0.9177\n",
      "Epoch 14/15\n",
      "420/420 [==============================] - 32s 75ms/step - loss: 0.2269 - accuracy: 0.9236\n",
      "Epoch 15/15\n",
      "420/420 [==============================] - 32s 75ms/step - loss: 0.2225 - accuracy: 0.9240\n"
     ]
    }
   ],
   "source": [
    "history = model.fit(\n",
    "    x_train, \n",
    "    y_train, \n",
    "    epochs=15, \n",
    "    verbose=1, \n",
    "    callbacks=[callbacks],\n",
    ")"
   ]
  },
  {
   "cell_type": "markdown",
   "metadata": {},
   "source": [
    "### Evaluate Model"
   ]
  },
  {
   "cell_type": "code",
   "execution_count": 25,
   "metadata": {},
   "outputs": [
    {
     "data": {
      "image/png": "[encoded data removed]",
      "text/plain": [
       "<Figure size 432x288 with 1 Axes>"
      ]
     },
     "metadata": {
      "needs_background": "light"
     },
     "output_type": "display_data"
    },
    {
     "data": {
      "text/plain": [
       "<Figure size 432x288 with 0 Axes>"
      ]
     },
     "metadata": {},
     "output_type": "display_data"
    }
   ],
   "source": [
    "loss, accuracy = history.history['loss'], history.history['accuracy']\n",
    "plt.plot(range(len(accuracy)), accuracy, 'r', label='training accuracy')\n",
    "plt.title('Training and validation accuracy')\n",
    "plt.ylabel('Loss')\n",
    "plt.xlabel('Epoch')\n",
    "plt.legend(loc=0)\n",
    "plt.figure()\n",
    "plt.show()"
   ]
  },
  {
   "cell_type": "code",
   "execution_count": 26,
   "metadata": {},
   "outputs": [
    {
     "name": "stdout",
     "output_type": "stream",
     "text": [
      "105/105 [==============================] - 2s 20ms/step - loss: 0.3350 - accuracy: 0.9163\n"
     ]
    },
    {
     "data": {
      "text/plain": [
       "[0.3350149989128113, 0.916344165802002]"
      ]
     },
     "execution_count": 26,
     "metadata": {},
     "output_type": "execute_result"
    }
   ],
   "source": [
    "model.evaluate(\n",
    "    x_test,\n",
    "    y_test,\n",
    "    verbose=1\n",
    ")"
   ]
  },
  {
   "cell_type": "markdown",
   "metadata": {},
   "source": [
    "### Save Model"
   ]
  },
  {
   "cell_type": "code",
   "execution_count": 27,
   "metadata": {},
   "outputs": [],
   "source": [
    "tf.keras.models.save_model(model, filepath=\"./my_model/OwnCNN_CSV_90p.h5\", overwrite=True, save_format='h5')"
   ]
  },
  {
   "cell_type": "markdown",
   "metadata": {},
   "source": [
    "## Using Images Datasets"
   ]
  },
  {
   "cell_type": "markdown",
   "metadata": {},
   "source": [
    "### Handle Data"
   ]
  },
  {
   "cell_type": "markdown",
   "metadata": {},
   "source": [
    "#### Bash Command - Linux"
   ]
  },
  {
   "cell_type": "code",
   "execution_count": null,
   "metadata": {},
   "outputs": [],
   "source": [
    "# Create directories for Image labels\n",
    "!mkdir -p Test/{1..28}/ Train/{1..28}\n",
    "# Move Images to assigned directories \n",
    "!ls Test\\ Images\\ 3360x32x32/test/ | rev | cut -f 1 -d '_' | rev | cut -f 1 -d '.' | sort -un | xargs -I{} sh -c 'find -type f | grep \"Test\" | grep -E \"_{}\\.png\" | xargs -I% mv % Test/{}/'\n",
    "!ls Train\\ Images\\ 13440x32x32/train/ | rev | cut -f 1 -d '_' | rev | cut -f 1 -d '.' | sort -un | xargs -I{} sh -c 'find -type f | grep \"Train\" | grep -E \"_{}\\.png\" | xargs -I% mv % Train/{}/'"
   ]
  },
  {
   "cell_type": "markdown",
   "metadata": {},
   "source": [
    "#### Python Command - Windows"
   ]
  },
  {
   "cell_type": "code",
   "execution_count": null,
   "metadata": {},
   "outputs": [],
   "source": [
    "# Haven't decided how to do it yet"
   ]
  },
  {
   "cell_type": "markdown",
   "metadata": {},
   "source": [
    "### CNN Transfer Learning"
   ]
  },
  {
   "cell_type": "code",
   "execution_count": null,
   "metadata": {},
   "outputs": [],
   "source": [
    "from tensorflow.keras.applications.resnet50 import ResNet50"
   ]
  },
  {
   "cell_type": "code",
   "execution_count": null,
   "metadata": {},
   "outputs": [],
   "source": [
    "model = ResNet50(\n",
    "    include_top=False, \n",
    "    weights='imagenet', \n",
    "    input_shape=(32,32,1)\n",
    "    )"
   ]
  }
 ],
 "metadata": {
  "interpreter": {
   "hash": "85c613298e2573a698747096a05ed0fa75bd0f57ffe828e7c5873ae05c08a3c6"
  },
  "kernelspec": {
   "display_name": "Python 3",
   "language": "python",
   "name": "python3"
  },
  "language_info": {
   "codemirror_mode": {
    "name": "ipython",
    "version": 3
   },
   "file_extension": ".py",
   "mimetype": "text/x-python",
   "name": "python",
   "nbconvert_exporter": "python",
   "pygments_lexer": "ipython3",
   "version": "3.9.7"
  }
 },
 "nbformat": 4,
 "nbformat_minor": 2
}
