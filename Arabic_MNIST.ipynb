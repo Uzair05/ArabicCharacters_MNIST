{
 "cells": [
  {
   "cell_type": "markdown",
   "metadata": {},
   "source": [
    "# Arabic Characters MNIST \n",
    "A [Kaggle Project](https://www.kaggle.com/mloey1/ahcd1) provided by [Benha University](http://bu.edu.eg/staff/mloey)\n",
    "\n",
    "Project By: [Uzair](https://github.com/Uzair05)"
   ]
  },
  {
   "cell_type": "markdown",
   "metadata": {},
   "source": [
    "## Using CSV Datasets"
   ]
  },
  {
   "cell_type": "markdown",
   "metadata": {},
   "source": [
    "### Download and move data"
   ]
  },
  {
   "cell_type": "code",
   "execution_count": null,
   "metadata": {},
   "outputs": [],
   "source": [
    "#!pip install --upgrade kaggle\n",
    "!kaggle datasets download -d mloey1/ahcd1"
   ]
  },
  {
   "cell_type": "code",
   "execution_count": null,
   "metadata": {},
   "outputs": [],
   "source": [
    "import os \n",
    "import zipfile\n",
    "\n",
    "try:\n",
    "    os.mkdir(\"./data/\")\n",
    "except Exception as err:\n",
    "    print(f\"Error in creating data/:\\t{err}\")\n",
    "\n",
    "\n",
    "localzip = \"./ahcd1.zip\"\n",
    "zip_ref = zipfile.ZipFile(localzip, 'r')\n",
    "try:\n",
    "    zip_ref.extractall('data/')\n",
    "except Exception as err:\n",
    "    print(f\"Erorr in zip extraction:\\t{err}\")\n",
    "finally:\n",
    "    zip_ref.close()"
   ]
  },
  {
   "cell_type": "markdown",
   "metadata": {},
   "source": [
    "### Handle Data\n",
    "Create test, train and validation data"
   ]
  },
  {
   "cell_type": "code",
   "execution_count": 1,
   "metadata": {},
   "outputs": [],
   "source": [
    "import numpy as np\n",
    "import pandas as pd\n",
    "import matplotlib.pyplot as plt\n",
    "import tensorflow as tf\n",
    "#import random as rand"
   ]
  },
  {
   "cell_type": "code",
   "execution_count": 2,
   "metadata": {},
   "outputs": [],
   "source": [
    "data = pd.read_csv(\"./data/csvTrainImages 13440x1024.csv\")\n",
    "label = pd.read_csv(\"./data/csvTrainLabel 13440x1.csv\")\n",
    "\n",
    "test_data = pd.read_csv('./data/csvTestImages 3360x1024.csv')\n",
    "test_label = pd.read_csv('./data/csvTestLabel 3360x1.csv')"
   ]
  },
  {
   "cell_type": "code",
   "execution_count": 3,
   "metadata": {},
   "outputs": [],
   "source": [
    "x_train = data.to_numpy()\n",
    "x_shape, _ = x_train.shape\n",
    "x_train = x_train.reshape(x_shape, 32, 32)\n",
    "y_train = label.to_numpy()\n",
    "y_shape, _ = y_train.shape\n",
    "y_train = y_train.reshape(y_shape,)\n",
    "\n",
    "\n",
    "x_test = test_data.to_numpy()\n",
    "x_test_shape, _ = x_test.shape\n",
    "x_test = x_test.reshape(x_test_shape, 32, 32)\n",
    "y_test = test_label.to_numpy()\n",
    "y_test_shape = y_test.shape\n",
    "y_test = y_test.reshape(y_test_shape,)"
   ]
  },
  {
   "cell_type": "code",
   "execution_count": 4,
   "metadata": {},
   "outputs": [],
   "source": [
    "for i in range(x_shape):\n",
    "    x_train[i,:,:] = np.rot90(x_train[i,:,:], axes=(1,0))\n",
    "for i in range(x_test_shape):\n",
    "    x_test[i,:,:] = np.rot90(x_test[i,:,:], axes=(1,0))\n",
    "\n",
    "\n",
    "x_train = x_train.reshape(x_shape, 32, 32, 1)\n",
    "x_test = x_test.reshape(x_test_shape, 32, 32, 1)\n",
    "x_train = x_train/255.0\n",
    "x_test = x_test/255.0"
   ]
  },
  {
   "cell_type": "code",
   "execution_count": 5,
   "metadata": {},
   "outputs": [],
   "source": [
    "y_train = y_train - 1\n",
    "y_test = y_test - 1"
   ]
  },
  {
   "cell_type": "code",
   "execution_count": 6,
   "metadata": {},
   "outputs": [
    {
     "data": {
      "text/plain": [
       "<matplotlib.image.AxesImage at 0x152b8bf501c0>"
      ]
     },
     "execution_count": 6,
     "metadata": {},
     "output_type": "execute_result"
    },
    {
     "data": {
      "image/png": "[encoded data removed]",
      "text/plain": [
       "<Figure size 432x288 with 1 Axes>"
      ]
     },
     "metadata": {
      "needs_background": "light"
     },
     "output_type": "display_data"
    }
   ],
   "source": [
    "plt.imshow(x_train[6,:,:])"
   ]
  },
  {
   "cell_type": "markdown",
   "metadata": {},
   "source": [
    "### Create Model"
   ]
  },
  {
   "cell_type": "code",
   "execution_count": 7,
   "metadata": {},
   "outputs": [],
   "source": [
    "class myCallback(tf.keras.callbacks.Callback):\n",
    "      def on_epoch_end(self, epoch, logs={}):\n",
    "        accuracy = 0.99 # Percentage Accuracy.\n",
    "        if(logs.get('accuracy') != None) and (logs.get('accuracy') >= accuracy): # Experiment with changing this value\n",
    "          print(f\"\\nReached {accuracy*100}% accuracy so cancelling training!\")\n",
    "          self.model.stop_training = True\n",
    "\n",
    "callbacks = myCallback()"
   ]
  },
  {
   "cell_type": "code",
   "execution_count": 8,
   "metadata": {},
   "outputs": [
    {
     "name": "stderr",
     "output_type": "stream",
     "text": [
      "2021-11-21 17:33:50.841241: I tensorflow/stream_executor/cuda/cuda_gpu_executor.cc:939] successful NUMA node read from SysFS had negative value (-1), but there must be at least one NUMA node, so returning NUMA node zero\n",
      "2021-11-21 17:33:50.858132: W tensorflow/stream_executor/platform/default/dso_loader.cc:64] Could not load dynamic library 'libcusolver.so.11'; dlerror: libcusolver.so.11: cannot open shared object file: No such file or directory\n",
      "2021-11-21 17:33:50.860647: W tensorflow/core/common_runtime/gpu/gpu_device.cc:1850] Cannot dlopen some GPU libraries. Please make sure the missing libraries mentioned above are installed properly if you would like to use GPU. Follow the guide at https://www.tensorflow.org/install/gpu for how to download and setup the required libraries for your platform.\n",
      "Skipping registering GPU devices...\n",
      "2021-11-21 17:33:50.862323: I tensorflow/core/platform/cpu_feature_guard.cc:151] This TensorFlow binary is optimized with oneAPI Deep Neural Network Library (oneDNN) to use the following CPU instructions in performance-critical operations:  AVX2 AVX512F FMA\n",
      "To enable them in other operations, rebuild TensorFlow with the appropriate compiler flags.\n"
     ]
    },
    {
     "name": "stdout",
     "output_type": "stream",
     "text": [
      "Model: \"sequential\"\n",
      "_________________________________________________________________\n",
      " Layer (type)                Output Shape              Param #   \n",
      "=================================================================\n",
      " conv2d (Conv2D)             (None, 32, 32, 12)        120       \n",
      "                                                                 \n",
      " conv2d_1 (Conv2D)           (None, 32, 32, 32)        3488      \n",
      "                                                                 \n",
      " conv2d_2 (Conv2D)           (None, 32, 32, 64)        18496     \n",
      "                                                                 \n",
      " flatten (Flatten)           (None, 65536)             0         \n",
      "                                                                 \n",
      " dense (Dense)               (None, 512)               33554944  \n",
      "                                                                 \n",
      " dropout (Dropout)           (None, 512)               0         \n",
      "                                                                 \n",
      " dense_1 (Dense)             (None, 512)               262656    \n",
      "                                                                 \n",
      " dropout_1 (Dropout)         (None, 512)               0         \n",
      "                                                                 \n",
      " dense_2 (Dense)             (None, 28)                14364     \n",
      "                                                                 \n",
      "=================================================================\n",
      "Total params: 33,854,068\n",
      "Trainable params: 33,854,068\n",
      "Non-trainable params: 0\n",
      "_________________________________________________________________\n"
     ]
    }
   ],
   "source": [
    "model = tf.keras.models.Sequential([\n",
    "    tf.keras.layers.Conv2D(12, (3,3), activation=tf.nn.relu, padding='same', input_shape=(32,32, 1)),\n",
    "    tf.keras.layers.Conv2D(32, (3,3), activation=tf.nn.relu, padding='same'),\n",
    "    tf.keras.layers.Conv2D(64, (3,3), activation=tf.nn.relu, padding='same'),\n",
    "    tf.keras.layers.Flatten(), \n",
    "    tf.keras.layers.Dense(512, activation=tf.nn.relu),\n",
    "    tf.keras.layers.Dropout(0.3),\n",
    "    tf.keras.layers.Dense(512, activation=tf.nn.relu),\n",
    "    tf.keras.layers.Dropout(0.3),\n",
    "    tf.keras.layers.Dense(28, activation=tf.nn.softmax)\n",
    "])\n",
    "model.compile(optimizer='adam', loss='sparse_categorical_crossentropy', metrics=['accuracy'])\n",
    "model.summary()"
   ]
  },
  {
   "cell_type": "markdown",
   "metadata": {},
   "source": [
    "### Train Model"
   ]
  },
  {
   "cell_type": "code",
   "execution_count": 9,
   "metadata": {},
   "outputs": [
    {
     "name": "stdout",
     "output_type": "stream",
     "text": [
      "Epoch 1/15\n",
      "420/420 [==============================] - 122s 287ms/step - loss: 1.4454 - accuracy: 0.5385\n",
      "Epoch 2/15\n",
      "420/420 [==============================] - 120s 285ms/step - loss: 0.4774 - accuracy: 0.8402\n",
      "Epoch 3/15\n",
      "420/420 [==============================] - 119s 284ms/step - loss: 0.2615 - accuracy: 0.9132\n",
      "Epoch 4/15\n",
      "420/420 [==============================] - 119s 284ms/step - loss: 0.1754 - accuracy: 0.9422\n",
      "Epoch 5/15\n",
      "420/420 [==============================] - 119s 284ms/step - loss: 0.1156 - accuracy: 0.9622\n",
      "Epoch 6/15\n",
      "420/420 [==============================] - 119s 284ms/step - loss: 0.1008 - accuracy: 0.9658\n",
      "Epoch 7/15\n",
      "420/420 [==============================] - 119s 283ms/step - loss: 0.0662 - accuracy: 0.9786\n",
      "Epoch 8/15\n",
      "420/420 [==============================] - 120s 285ms/step - loss: 0.0693 - accuracy: 0.9769\n",
      "Epoch 9/15\n",
      "420/420 [==============================] - 119s 283ms/step - loss: 0.0598 - accuracy: 0.9808\n",
      "Epoch 10/15\n",
      "420/420 [==============================] - 119s 283ms/step - loss: 0.0569 - accuracy: 0.9804\n",
      "Epoch 11/15\n",
      "420/420 [==============================] - 119s 284ms/step - loss: 0.0489 - accuracy: 0.9856\n",
      "Epoch 12/15\n",
      "420/420 [==============================] - 118s 282ms/step - loss: 0.0377 - accuracy: 0.9887\n",
      "Epoch 13/15\n",
      "420/420 [==============================] - 119s 283ms/step - loss: 0.0464 - accuracy: 0.9842\n",
      "Epoch 14/15\n",
      "420/420 [==============================] - ETA: 0s - loss: 0.0356 - accuracy: 0.9900\n",
      "Reached 99.0% accuracy so cancelling training!\n",
      "420/420 [==============================] - 119s 283ms/step - loss: 0.0356 - accuracy: 0.9900\n"
     ]
    }
   ],
   "source": [
    "history = model.fit(\n",
    "    x_train, \n",
    "    y_train, \n",
    "    epochs=15, \n",
    "    verbose=1, \n",
    "    callbacks=[callbacks],\n",
    ")"
   ]
  },
  {
   "cell_type": "markdown",
   "metadata": {},
   "source": [
    "### Evaluate Model"
   ]
  },
  {
   "cell_type": "code",
   "execution_count": 10,
   "metadata": {},
   "outputs": [
    {
     "data": {
      "image/png": "[encoded data removed]",
      "text/plain": [
       "<Figure size 432x288 with 1 Axes>"
      ]
     },
     "metadata": {
      "needs_background": "light"
     },
     "output_type": "display_data"
    },
    {
     "data": {
      "text/plain": [
       "<Figure size 432x288 with 0 Axes>"
      ]
     },
     "metadata": {},
     "output_type": "display_data"
    }
   ],
   "source": [
    "loss, accuracy = history.history['loss'], history.history['accuracy']\n",
    "plt.plot(range(len(accuracy)), accuracy, 'r', label='training accuracy')\n",
    "plt.title('Training and validation accuracy')\n",
    "plt.ylabel('Loss')\n",
    "plt.xlabel('Epoch')\n",
    "plt.legend(loc=0)\n",
    "plt.figure()\n",
    "plt.show()"
   ]
  },
  {
   "cell_type": "code",
   "execution_count": 11,
   "metadata": {},
   "outputs": [
    {
     "name": "stdout",
     "output_type": "stream",
     "text": [
      "105/105 [==============================] - 5s 49ms/step - loss: 0.4216 - accuracy: 0.9131\n"
     ]
    },
    {
     "data": {
      "text/plain": [
       "[0.4215766489505768, 0.9130693674087524]"
      ]
     },
     "execution_count": 11,
     "metadata": {},
     "output_type": "execute_result"
    }
   ],
   "source": [
    "model.evaluate(\n",
    "    x_test,\n",
    "    y_test,\n",
    "    verbose=1\n",
    ")"
   ]
  },
  {
   "cell_type": "markdown",
   "metadata": {},
   "source": [
    "### Save Model"
   ]
  },
  {
   "cell_type": "code",
   "execution_count": 12,
   "metadata": {},
   "outputs": [],
   "source": [
    "tf.keras.models.save_model(model, filepath=\"./my_model/OwnCNN_CSV_90p.h5\", overwrite=True, save_format='h5')"
   ]
  }
 ],
 "metadata": {
  "interpreter": {
   "hash": "85c613298e2573a698747096a05ed0fa75bd0f57ffe828e7c5873ae05c08a3c6"
  },
  "kernelspec": {
   "display_name": "Python 3 (ipykernel)",
   "language": "python",
   "name": "python3"
  },
  "language_info": {
   "codemirror_mode": {
    "name": "ipython",
    "version": 3
   },
   "file_extension": ".py",
   "mimetype": "text/x-python",
   "name": "python",
   "nbconvert_exporter": "python",
   "pygments_lexer": "ipython3",
   "version": "3.9.7"
  }
 },
 "nbformat": 4,
 "nbformat_minor": 2
}
